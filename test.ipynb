{
  "nbformat": 4,
  "nbformat_minor": 0,
  "metadata": {
    "colab": {
      "name": "test.ipynb",
      "provenance": [],
      "authorship_tag": "ABX9TyNOGTTIyEhwzS4MvMhqZZYb",
      "include_colab_link": true
    },
    "kernelspec": {
      "name": "python3",
      "display_name": "Python 3"
    },
    "language_info": {
      "name": "python"
    }
  },
  "cells": [
    {
      "cell_type": "markdown",
      "metadata": {
        "id": "view-in-github",
        "colab_type": "text"
      },
      "source": [
        "<a href=\"https://colab.research.google.com/github/yomyaykya/yomyay/blob/master/test.ipynb\" target=\"_parent\"><img src=\"https://colab.research.google.com/assets/colab-badge.svg\" alt=\"Open In Colab\"/></a>"
      ]
    },
    {
      "cell_type": "code",
      "execution_count": 1,
      "metadata": {
        "id": "gUia0FdEYpXi"
      },
      "outputs": [],
      "source": [
        "import numpy as np\n",
        "import tensorflow as tf\n",
        "import os\n",
        "import cv2\n",
        "import matplotlib.pyplot as plt\n",
        "from tensorflow.keras import Sequential \n",
        "from tensorflow.keras.layers import Conv2D, MaxPooling2D, Dense, Flatten, BatchNormalization, Dropout\n",
        "from tensorflow.keras.preprocessing.image import ImageDataGenerator\n",
        "from tensorflow.keras.applications.resnet50 import ResNet50\n",
        "from tensorflow.keras.applications import VGG16\n",
        "from tensorflow.keras import layers\n",
        "from tensorflow.keras import optimizers\n",
        "from tensorflow.keras.models import Model\n",
        "from keras.utils.np_utils import to_categorical\n",
        "from keras import regularizers\n",
        "import numpy as np"
      ]
    },
    {
      "cell_type": "code",
      "source": [
        "def extract_label(img_path, train=True):\n",
        "    filename, _ = os.path.splitext(os.path.basename(img_path))\n",
        "    subject_id, etc = filename.split('__')\n",
        "    \n",
        "    if train:\n",
        "        gender, lr, finger, _, _ = etc.split('_')\n",
        "    else:\n",
        "        gender, lr, finger, _ = etc.split('_')\n",
        "    \n",
        "    gender = 0 if gender == 'M' else 1\n",
        "    lr =0 if lr == 'Left' else 1\n",
        "    \n",
        "    if finger == 'thumb':\n",
        "        finger = 0\n",
        "    elif finger == 'index':\n",
        "        finger = 1\n",
        "     \n",
        "    return np.array([finger], dtype=np.uint16)"
      ],
      "metadata": {
        "id": "5StcHvaxZ_2i"
      },
      "execution_count": 2,
      "outputs": []
    },
    {
      "cell_type": "code",
      "source": [
        "img_size = 96\n",
        "def loading_data(path,train):\n",
        "    print(\"loading data from: \",path)\n",
        "    data = []\n",
        "    for img in os.listdir(path):\n",
        "        try:\n",
        "            img_array = cv2.imread(os.path.join(path, img), cv2.IMREAD_GRAYSCALE)\n",
        "            img_resize = cv2.resize(img_array, (img_size, img_size))\n",
        "            label = extract_label(os.path.join(path, img),train)\n",
        "            data.append([label[0], img_resize ])\n",
        "        except Exception as e:\n",
        "            pass\n",
        "    data\n",
        "    return data"
      ],
      "metadata": {
        "id": "DfkYK4X3aCxM"
      },
      "execution_count": 3,
      "outputs": []
    },
    {
      "cell_type": "code",
      "source": [
        "from google.colab import drive\n",
        "drive.mount('/content/drive')"
      ],
      "metadata": {
        "colab": {
          "base_uri": "https://localhost:8080/"
        },
        "id": "OZWVoh52aIaD",
        "outputId": "ccdb93a1-6893-49ad-ba15-3130b15f1bc5"
      },
      "execution_count": 4,
      "outputs": [
        {
          "output_type": "stream",
          "name": "stdout",
          "text": [
            "Mounted at /content/drive\n"
          ]
        }
      ]
    },
    {
      "cell_type": "code",
      "source": [
        "Real_path = \"/content/drive/MyDrive/For thesis/SOCOFing/Real\"\n",
        "Easy_path = \"/content/drive/MyDrive/For thesis/SOCOFing/Altered/Altered-Easy\"\n",
        "Medium_path = \"/content/drive/MyDrive/For thesis/SOCOFing/Altered/Altered-Medium\"\n",
        "Hard_path = \"/content/drive/MyDrive/For thesis/SOCOFing/Altered/Altered-Hard\"\n",
        "\n",
        "\n",
        "Easy_data = loading_data(Easy_path, train = True)\n",
        "Medium_data = loading_data(Medium_path, train = True)\n",
        "Hard_data = loading_data(Hard_path, train = True)\n",
        "test = loading_data(Real_path, train = False)\n",
        "\n",
        "data = np.concatenate([Easy_data, Medium_data, Hard_data], axis=0)\n",
        "\n",
        "del Easy_data, Medium_data, Hard_data"
      ],
      "metadata": {
        "colab": {
          "base_uri": "https://localhost:8080/"
        },
        "id": "wzFvioSgaZm5",
        "outputId": "7a291920-75c7-46b2-cb72-97c2810ae798"
      },
      "execution_count": 5,
      "outputs": [
        {
          "output_type": "stream",
          "name": "stdout",
          "text": [
            "loading data from:  /content/drive/MyDrive/For thesis/SOCOFing/Altered/Altered-Easy\n",
            "loading data from:  /content/drive/MyDrive/For thesis/SOCOFing/Altered/Altered-Medium\n",
            "loading data from:  /content/drive/MyDrive/For thesis/SOCOFing/Altered/Altered-Hard\n",
            "loading data from:  /content/drive/MyDrive/For thesis/SOCOFing/Real\n"
          ]
        },
        {
          "output_type": "stream",
          "name": "stderr",
          "text": [
            "<string>:6: VisibleDeprecationWarning: Creating an ndarray from ragged nested sequences (which is a list-or-tuple of lists-or-tuples-or ndarrays with different lengths or shapes) is deprecated. If you meant to do this, you must specify 'dtype=object' when creating the ndarray.\n"
          ]
        }
      ]
    },
    {
      "cell_type": "code",
      "source": [
        "import random\n",
        "random.shuffle(data)\n",
        "random.shuffle(test)"
      ],
      "metadata": {
        "id": "Zw_3gmYKbgWr"
      },
      "execution_count": 6,
      "outputs": []
    },
    {
      "cell_type": "code",
      "source": [
        "data"
      ],
      "metadata": {
        "colab": {
          "base_uri": "https://localhost:8080/"
        },
        "id": "XYHBbt1ubkSx",
        "outputId": "40c9e77f-0014-4768-e9e7-5e2ce32af729"
      },
      "execution_count": 7,
      "outputs": [
        {
          "output_type": "execute_result",
          "data": {
            "text/plain": [
              "array([[1, array([[160, 158, 158, ...,   0,   0,   0],\n",
              "                  [160, 105, 121, ...,   0,   0,   0],\n",
              "                  [160, 105, 255, ...,   0,   0,   0],\n",
              "                  ...,\n",
              "                  [  0,   0,   0, ...,   0,   0,   0],\n",
              "                  [  0,   0,   0, ...,   0,   0,   0],\n",
              "                  [  0,   0,   0, ...,   0,   0,   0]], dtype=uint8)],\n",
              "       [1, array([[160, 158, 158, ...,   0,   0,   0],\n",
              "                  [160, 105, 121, ...,   0,   0,   0],\n",
              "                  [160, 105, 255, ...,   0,   0,   0],\n",
              "                  ...,\n",
              "                  [  0,   0,   0, ...,   0,   0,   0],\n",
              "                  [  0,   0,   0, ...,   0,   0,   0],\n",
              "                  [  0,   0,   0, ...,   0,   0,   0]], dtype=uint8)],\n",
              "       [0, array([[160, 158, 158, ...,   0,   0,   0],\n",
              "                  [160, 105, 121, ...,   0,   0,   0],\n",
              "                  [160, 105, 255, ...,   0,   0,   0],\n",
              "                  ...,\n",
              "                  [  0,   0,   0, ...,   0,   0,   0],\n",
              "                  [  0,   0,   0, ...,   0,   0,   0],\n",
              "                  [  0,   0,   0, ...,   0,   0,   0]], dtype=uint8)],\n",
              "       ...,\n",
              "       [0, array([[160, 158, 158, ...,   0,   0,   0],\n",
              "                  [160, 105, 121, ...,   0,   0,   0],\n",
              "                  [160, 105, 255, ...,   0,   0,   0],\n",
              "                  ...,\n",
              "                  [  0,   0,   0, ...,   0,   0,   0],\n",
              "                  [  0,   0,   0, ...,   0,   0,   0],\n",
              "                  [  0,   0,   0, ...,   0,   0,   0]], dtype=uint8)],\n",
              "       [1, array([[160, 158, 158, ...,   0,   0,   0],\n",
              "                  [160, 105, 121, ...,   0,   0,   0],\n",
              "                  [160, 105, 255, ...,   0,   0,   0],\n",
              "                  ...,\n",
              "                  [  0,   0,   0, ...,   0,   0,   0],\n",
              "                  [  0,   0,   0, ...,   0,   0,   0],\n",
              "                  [  0,   0,   0, ...,   0,   0,   0]], dtype=uint8)],\n",
              "       [1, array([[160, 158, 158, ...,   0,   0,   0],\n",
              "                  [160, 105, 121, ...,   0,   0,   0],\n",
              "                  [160, 105, 255, ...,   0,   0,   0],\n",
              "                  ...,\n",
              "                  [  0,   0,   0, ...,   0,   0,   0],\n",
              "                  [  0,   0,   0, ...,   0,   0,   0],\n",
              "                  [  0,   0,   0, ...,   0,   0,   0]], dtype=uint8)]],\n",
              "      dtype=object)"
            ]
          },
          "metadata": {},
          "execution_count": 7
        }
      ]
    },
    {
      "cell_type": "code",
      "source": [
        "img, labels = [], []\n",
        "for label, feature in data:\n",
        "    labels.append(label)\n",
        "    img.append(feature)\n",
        "train_data = np.array(img).reshape(-1, img_size, img_size, 1)\n",
        "train_data = train_data / 255.0\n",
        "train_labels = to_categorical(labels, num_classes = 2)"
      ],
      "metadata": {
        "id": "-qBUVX3Qbmvz"
      },
      "execution_count": 8,
      "outputs": []
    },
    {
      "cell_type": "code",
      "source": [
        "#Designing compiling the CNN model \n",
        "model=Sequential() \n",
        "model.add(Conv2D(input_shape= (96,96,1),filters=64,kernel_size=(3,3),padding='same',activation='relu')) \n",
        "model.add(Conv2D(filters=64,kernel_size=(3,3),padding='same',activation='relu')) \n",
        "model.add(MaxPooling2D(pool_size=(2,2)))\n",
        "\n",
        "model.add(Conv2D(filters=128,kernel_size=(3,3),padding='same',activation='relu')) \n",
        "model.add(Conv2D(filters=128,kernel_size=(3,3),padding='same',activation='relu')) \n",
        "model.add(MaxPooling2D(pool_size=(2,2)))\n",
        "\n",
        "model.add(Conv2D(filters=256,kernel_size=(3,3),padding='same',activation='relu'))\n",
        "model.add(Conv2D(filters=256,kernel_size=(3,3),padding='same',activation='relu')) \n",
        "model.add(Conv2D(filters=256,kernel_size=(3,3),padding='same',activation='relu')) \n",
        "model.add(MaxPooling2D(pool_size=(2,2)))\n",
        "\n",
        "model.add(Conv2D(filters=512,kernel_size=(3,3),padding='same',activation='relu')) \n",
        "model.add(Conv2D(filters=512,kernel_size=(3,3),padding='same',activation='relu')) \n",
        "model.add(Conv2D(filters=512,kernel_size=(3,3),padding='same',activation='relu')) \n",
        "model.add(MaxPooling2D(pool_size=(2,2)))\n",
        "\n",
        "model.add(Flatten()) \n",
        "model.add(Dense(4096,activation='relu')) \n",
        "model.add(Dense(4096,activation='relu')) \n",
        "model.add(Dense(2,activation='softmax')) \n",
        "\n",
        "model.compile(loss='binary_crossentropy',optimizer='adam',metrics=['accuracy']) \n",
        "\n",
        "model.summary() \n",
        "\n",
        "from keras.callbacks import ModelCheckpoint,EarlyStopping \n",
        "checkpoint=ModelCheckpoint(\"vgg16_1.h5\",monitor='val_acc',verbose=1,save_best_only=True) \n",
        "early=EarlyStopping(monitor='val_acc',patience=20,verbose=1)"
      ],
      "metadata": {
        "colab": {
          "base_uri": "https://localhost:8080/"
        },
        "id": "3O71vqITbtCa",
        "outputId": "6e2f1cb7-8807-47a1-d16a-ddf07d0bd531"
      },
      "execution_count": 14,
      "outputs": [
        {
          "output_type": "stream",
          "name": "stdout",
          "text": [
            "Model: \"sequential_3\"\n",
            "_________________________________________________________________\n",
            " Layer (type)                Output Shape              Param #   \n",
            "=================================================================\n",
            " conv2d_30 (Conv2D)          (None, 96, 96, 64)        640       \n",
            "                                                                 \n",
            " conv2d_31 (Conv2D)          (None, 96, 96, 64)        36928     \n",
            "                                                                 \n",
            " max_pooling2d_12 (MaxPoolin  (None, 48, 48, 64)       0         \n",
            " g2D)                                                            \n",
            "                                                                 \n",
            " conv2d_32 (Conv2D)          (None, 48, 48, 128)       73856     \n",
            "                                                                 \n",
            " conv2d_33 (Conv2D)          (None, 48, 48, 128)       147584    \n",
            "                                                                 \n",
            " max_pooling2d_13 (MaxPoolin  (None, 24, 24, 128)      0         \n",
            " g2D)                                                            \n",
            "                                                                 \n",
            " conv2d_34 (Conv2D)          (None, 24, 24, 256)       295168    \n",
            "                                                                 \n",
            " conv2d_35 (Conv2D)          (None, 24, 24, 256)       590080    \n",
            "                                                                 \n",
            " conv2d_36 (Conv2D)          (None, 24, 24, 256)       590080    \n",
            "                                                                 \n",
            " max_pooling2d_14 (MaxPoolin  (None, 12, 12, 256)      0         \n",
            " g2D)                                                            \n",
            "                                                                 \n",
            " conv2d_37 (Conv2D)          (None, 12, 12, 512)       1180160   \n",
            "                                                                 \n",
            " conv2d_38 (Conv2D)          (None, 12, 12, 512)       2359808   \n",
            "                                                                 \n",
            " conv2d_39 (Conv2D)          (None, 12, 12, 512)       2359808   \n",
            "                                                                 \n",
            " max_pooling2d_15 (MaxPoolin  (None, 6, 6, 512)        0         \n",
            " g2D)                                                            \n",
            "                                                                 \n",
            " flatten_3 (Flatten)         (None, 18432)             0         \n",
            "                                                                 \n",
            " dense_9 (Dense)             (None, 4096)              75501568  \n",
            "                                                                 \n",
            " dense_10 (Dense)            (None, 4096)              16781312  \n",
            "                                                                 \n",
            " dense_11 (Dense)            (None, 2)                 8194      \n",
            "                                                                 \n",
            "=================================================================\n",
            "Total params: 99,925,186\n",
            "Trainable params: 99,925,186\n",
            "Non-trainable params: 0\n",
            "_________________________________________________________________\n"
          ]
        }
      ]
    },
    {
      "cell_type": "code",
      "source": [
        "model.save(\"fingerprint.h5\")"
      ],
      "metadata": {
        "id": "I7teyZ9tL7FD"
      },
      "execution_count": 16,
      "outputs": []
    },
    {
      "cell_type": "code",
      "source": [
        "model.compile(optimizer = optimizers.Adam(learning_rate=0.0001), loss = 'categorical_crossentropy', metrics = ['accuracy'])\n",
        "history = model.fit(train_data, train_labels, batch_size = 128, epochs = 10,validation_split = 0.2\n",
        "          )"
      ],
      "metadata": {
        "colab": {
          "base_uri": "https://localhost:8080/"
        },
        "id": "mopJzUbGig6B",
        "outputId": "7ffd4c12-277c-4568-a3fa-6504bcc4e9cc"
      },
      "execution_count": 15,
      "outputs": [
        {
          "output_type": "stream",
          "name": "stdout",
          "text": [
            "Epoch 1/10\n",
            "21/21 [==============================] - 1054s 50s/step - loss: 0.6063 - accuracy: 0.6554 - val_loss: 0.4249 - val_accuracy: 0.7946\n",
            "Epoch 2/10\n",
            "21/21 [==============================] - 1042s 50s/step - loss: 0.3392 - accuracy: 0.8571 - val_loss: 0.2515 - val_accuracy: 0.9100\n",
            "Epoch 3/10\n",
            "21/21 [==============================] - 1062s 51s/step - loss: 0.2385 - accuracy: 0.9003 - val_loss: 0.2519 - val_accuracy: 0.8951\n",
            "Epoch 4/10\n",
            "21/21 [==============================] - 1042s 50s/step - loss: 0.1976 - accuracy: 0.9231 - val_loss: 0.2209 - val_accuracy: 0.8966\n",
            "Epoch 5/10\n",
            "21/21 [==============================] - 1033s 49s/step - loss: 0.1881 - accuracy: 0.9276 - val_loss: 0.1885 - val_accuracy: 0.9355\n",
            "Epoch 6/10\n",
            "21/21 [==============================] - 1042s 50s/step - loss: 0.1184 - accuracy: 0.9621 - val_loss: 0.1621 - val_accuracy: 0.9325\n",
            "Epoch 7/10\n",
            "21/21 [==============================] - 1029s 49s/step - loss: 0.0841 - accuracy: 0.9726 - val_loss: 0.0985 - val_accuracy: 0.9610\n",
            "Epoch 8/10\n",
            "21/21 [==============================] - 1025s 49s/step - loss: 0.0548 - accuracy: 0.9820 - val_loss: 0.0721 - val_accuracy: 0.9820\n",
            "Epoch 9/10\n",
            "21/21 [==============================] - 1032s 49s/step - loss: 0.0800 - accuracy: 0.9685 - val_loss: 0.1079 - val_accuracy: 0.9625\n",
            "Epoch 10/10\n",
            "21/21 [==============================] - 1033s 49s/step - loss: 0.0577 - accuracy: 0.9805 - val_loss: 0.0692 - val_accuracy: 0.9760\n"
          ]
        }
      ]
    }
  ]
}