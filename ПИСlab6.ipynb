{
  "nbformat": 4,
  "nbformat_minor": 0,
  "metadata": {
    "colab": {
      "name": "ПИСlab6.ipynb",
      "provenance": [],
      "collapsed_sections": [],
      "include_colab_link": true
    },
    "kernelspec": {
      "name": "python3",
      "display_name": "Python 3"
    },
    "language_info": {
      "name": "python"
    }
  },
  "cells": [
    {
      "cell_type": "markdown",
      "metadata": {
        "id": "view-in-github",
        "colab_type": "text"
      },
      "source": [
        "<a href=\"https://colab.research.google.com/github/yomyaykya/yomyay/blob/master/%D0%9F%D0%98%D0%A1lab6.ipynb\" target=\"_parent\"><img src=\"https://colab.research.google.com/assets/colab-badge.svg\" alt=\"Open In Colab\"/></a>"
      ]
    },
    {
      "cell_type": "code",
      "metadata": {
        "colab": {
          "base_uri": "https://localhost:8080/"
        },
        "id": "-ukiHiw7zw06",
        "outputId": "bcf64318-b54d-4db0-c8e4-b5293a872266"
      },
      "source": [
        "%tensorflow_version 1.15.0"
      ],
      "execution_count": 1,
      "outputs": [
        {
          "output_type": "stream",
          "text": [
            "`%tensorflow_version` only switches the major version: 1.x or 2.x.\n",
            "You set: `1.15.0`. This will be interpreted as: `1.x`.\n",
            "\n",
            "\n",
            "TensorFlow 1.x selected.\n"
          ],
          "name": "stdout"
        }
      ]
    },
    {
      "cell_type": "code",
      "metadata": {
        "id": "Tz5eTA3t0iL8",
        "colab": {
          "base_uri": "https://localhost:8080/"
        },
        "outputId": "f261a6d8-996a-4594-d06b-1cb57e92f216"
      },
      "source": [
        "import tensorflow as tf\n",
        "import numpy as np\n",
        "from collections import Counter\n",
        "from sklearn.datasets import fetch_20newsgroups\n",
        "categories = [\"comp.os.ms-windows.misc\", \"sci.crypt\", \"talk.religion.misc\", \"rec.autos\" ]\n",
        "newsgroups_train = fetch_20newsgroups(subset='train', categories=categories)\n",
        "newsgroups_test = fetch_20newsgroups(subset='test', categories=categories)\n"
      ],
      "execution_count": 2,
      "outputs": [
        {
          "output_type": "stream",
          "text": [
            "Downloading 20news dataset. This may take a few minutes.\n",
            "Downloading dataset from https://ndownloader.figshare.com/files/5975967 (14 MB)\n"
          ],
          "name": "stderr"
        }
      ]
    },
    {
      "cell_type": "code",
      "metadata": {
        "id": "Q9_uWLUA1Awq"
      },
      "source": [
        "vocab = Counter()"
      ],
      "execution_count": 3,
      "outputs": []
    },
    {
      "cell_type": "code",
      "metadata": {
        "id": "cYc7vjju1Nnv"
      },
      "source": [
        "for text in newsgroups_train.data:\n",
        "    for word in text.split(' '):\n",
        "        vocab[word.lower()] += 1\n"
      ],
      "execution_count": 4,
      "outputs": []
    },
    {
      "cell_type": "code",
      "metadata": {
        "id": "uNWfgT8M1hV4"
      },
      "source": [
        "for text in newsgroups_test.data:\n",
        "    for word in text.split(' '):\n",
        "        vocab[word.lower()] += 1\n"
      ],
      "execution_count": 5,
      "outputs": []
    },
    {
      "cell_type": "code",
      "metadata": {
        "id": "hPPrk6hj1nDP"
      },
      "source": [
        "total_words = len(vocab)\n",
        "#сохранение индексов каждого слова\n",
        "def get_word_2_index(vocab):\n",
        "    word2index = {}\n",
        "    for i, word in enumerate(vocab):\n",
        "        word2index[word.lower()] = i\n",
        "    return word2index\n"
      ],
      "execution_count": 6,
      "outputs": []
    },
    {
      "cell_type": "code",
      "metadata": {
        "id": "duUICNIo1taN"
      },
      "source": [
        "word2index = get_word_2_index(vocab) \n",
        "def get_batch(df, i, batch_size):\n",
        "    batches = []\n",
        "    results = []\n",
        "    texts = df.data[i * batch_size:i * batch_size + batch_size]\n",
        "    categories = df.target[i * batch_size:i * batch_size + batch_size]\n",
        "    for text in texts:\n",
        "        layer = np.zeros(total_words, dtype=float)\n",
        "        for word in text.split(' '):\n",
        "            layer[word2index[word.lower()]] += 1\n",
        "        batches.append(layer)\n",
        "    for category in categories:\n",
        "        y = np.zeros((5), dtype=float)\n",
        "        if category == 0:\n",
        "            y[0] = 1.\n",
        "        elif category == 1:\n",
        "            y[1] = 1.\n",
        "        elif category == 2:\n",
        "            y[2] = 1.\n",
        "        elif category == 3:\n",
        "            y[3] = 1.\n",
        "        results.append(y)\n",
        "    return np.array(batches), np.array(results)"
      ],
      "execution_count": 7,
      "outputs": []
    },
    {
      "cell_type": "code",
      "metadata": {
        "id": "cpyyl4ho4Zsk",
        "colab": {
          "base_uri": "https://localhost:8080/"
        },
        "outputId": "91211eb8-62e3-46bd-c9b6-e83a9d110419"
      },
      "source": [
        "# Параметры обучения\n",
        "learning_rate = 0.01\n",
        "training_epochs = 15\n",
        "batch_size = 150\n",
        "display_step = 1\n",
        "\n",
        "# Network Parameters\n",
        "n_hidden_1 = 200 # скрытый слой\n",
        "n_hidden_2 = 150 # скрытый слой\n",
        "n_hidden_3 = 100 # скрытый слой\n",
        "\n",
        "n_input = total_words # количество уникальных слов в текстах\n",
        "n_classes = 5\n",
        "\n",
        "input_tensor = tf.placeholder(tf.float32,[None, n_input],name=\"input\")\n",
        "output_tensor = tf.placeholder(tf.float32,[None, n_classes],name=\"output\")\n",
        "def multilayer_perceptron(input_tensor, weights, biases):\n",
        "    # скрытый слой\n",
        "    layer_1_multiplication = tf.matmul(input_tensor, weights['h1'])\n",
        "    layer_1_addition = tf.add(layer_1_multiplication, biases['b1'])\n",
        "    layer_1 = tf.nn.relu(layer_1_addition)\n",
        "    \n",
        "    # скрытый слой\n",
        "    layer_2_multiplication = tf.matmul(layer_1, weights['h2'])\n",
        "    layer_2_addition = tf.add(layer_2_multiplication, biases['b2'])\n",
        "    layer_2 = tf.nn.relu(layer_2_addition)\n",
        "  \n",
        "    # скрытый слой\n",
        "    layer_3_multiplication = tf.matmul(layer_2, weights['h3'])\n",
        "    layer_3_addition = tf.add(layer_3_multiplication, biases['b3'])\n",
        "    layer_3 = tf.nn.relu(layer_3_addition)\n",
        "\n",
        "    # выходной слой\n",
        "    out_layer_multiplication = tf.matmul(layer_3, weights['out'])\n",
        "    out_layer_addition = out_layer_multiplication + biases['out']\n",
        "    \n",
        "    return out_layer_addition\n",
        "\n",
        "# инициализация параметров сети\n",
        "weights = {\n",
        "  'h1': tf.Variable(tf.random_normal([n_input, n_hidden_1])),\n",
        "  'h2': tf.Variable(tf.random_normal([n_hidden_1, n_hidden_2])),\n",
        "  'h3': tf.Variable(tf.random_normal([n_hidden_2, n_hidden_3])),\n",
        "  'out': tf.Variable(tf.random_normal([n_hidden_3, n_classes]))\n",
        "}\n",
        "biases = {\n",
        "  'b1': tf.Variable(tf.random_normal([n_hidden_1])),\n",
        "  'b2': tf.Variable(tf.random_normal([n_hidden_2])),\n",
        "  'b3': tf.Variable(tf.random_normal([n_hidden_3])),\n",
        "  'out': tf.Variable(tf.random_normal([n_classes]))\n",
        "}\n",
        "# создание модели\n",
        "prediction = multilayer_perceptron(input_tensor, weights, biases)\n",
        "\n",
        "# Фукнция потерь\n",
        "loss = tf.reduce_mean(tf.nn.softmax_cross_entropy_with_logits(logits=prediction, labels=output_tensor))\n",
        "optimizer = tf.train.AdamOptimizer(learning_rate=learning_rate).minimize(loss)\n"
      ],
      "execution_count": 8,
      "outputs": [
        {
          "output_type": "stream",
          "text": [
            "WARNING:tensorflow:From <ipython-input-8-df277157d93d>:56: softmax_cross_entropy_with_logits (from tensorflow.python.ops.nn_ops) is deprecated and will be removed in a future version.\n",
            "Instructions for updating:\n",
            "\n",
            "Future major versions of TensorFlow will allow gradients to flow\n",
            "into the labels input on backprop by default.\n",
            "\n",
            "See `tf.nn.softmax_cross_entropy_with_logits_v2`.\n",
            "\n"
          ],
          "name": "stdout"
        }
      ]
    },
    {
      "cell_type": "code",
      "metadata": {
        "colab": {
          "base_uri": "https://localhost:8080/"
        },
        "id": "Hgp_TJSh5ezz",
        "outputId": "7bed8457-dfa8-4d63-e818-4daa1d3ed9e0"
      },
      "source": [
        "init = tf.global_variables_initializer()# Запуск\n",
        "with tf.Session() as sess:\n",
        "    sess.run(init)\n",
        "    \n",
        "    for epoch in range(training_epochs):\n",
        "        avg_cost = 0.\n",
        "        total_batch = int(len(newsgroups_train.data)/batch_size)\n",
        "        for i in range(total_batch):\n",
        "            batch_x,batch_y = get_batch(newsgroups_train,i,batch_size) \n",
        "            c,_ = sess.run([loss,optimizer], feed_dict={input_tensor: batch_x,output_tensor:batch_y})\n",
        "            avg_cost += c / total_batch\n",
        "        print(\"Эпоха:\", '%04d' % (epoch+1), \"loss=\", \"{:.16f}\".format(avg_cost))\n",
        "    print(\"Обучение завершено!\")\n",
        "    \n",
        "    correct_prediction = tf.equal(tf.argmax(prediction, 1), tf.argmax(output_tensor, 1))\n",
        "    accuracy = tf.reduce_mean(tf.cast(correct_prediction, \"float\"))\n",
        "    total_test_data = len(newsgroups_test.target)\n",
        "    batch_x_test, batch_y_test = get_batch(newsgroups_test, 0, total_test_data)\n",
        "    print(\"Точность:\", accuracy.eval({input_tensor: batch_x_test, output_tensor: batch_y_test}))"
      ],
      "execution_count": 9,
      "outputs": [
        {
          "output_type": "stream",
          "text": [
            "Эпоха: 0001 loss= 12212.2378104073650320\n",
            "Эпоха: 0002 loss= 2306.7938036237442248\n",
            "Эпоха: 0003 loss= 1864.4551544189453125\n",
            "Эпоха: 0004 loss= 2169.3459254673548458\n",
            "Эпоха: 0005 loss= 1239.2397744315010186\n",
            "Эпоха: 0006 loss= 128.6762567928859085\n",
            "Эпоха: 0007 loss= 7.9239470022065301\n",
            "Эпоха: 0008 loss= 0.0000000000000000\n",
            "Эпоха: 0009 loss= 0.0000000000000000\n",
            "Эпоха: 0010 loss= 0.0000000000000000\n",
            "Эпоха: 0011 loss= 0.0000000000000000\n",
            "Эпоха: 0012 loss= 0.0000000000000000\n",
            "Эпоха: 0013 loss= 0.0000000000000000\n",
            "Эпоха: 0014 loss= 0.0000000000000000\n",
            "Эпоха: 0015 loss= 0.0000000000000000\n",
            "Обучение завершено!\n",
            "Точность: 0.6819763\n"
          ],
          "name": "stdout"
        }
      ]
    }
  ]
}