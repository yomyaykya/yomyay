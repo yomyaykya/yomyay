{
  "nbformat": 4,
  "nbformat_minor": 0,
  "metadata": {
    "colab": {
      "name": "Fingerprint8.ipynb",
      "provenance": [],
      "collapsed_sections": [],
      "mount_file_id": "18iKOUMzaJAfS0IL5E1_E3xK5u8Ne2gbT",
      "authorship_tag": "ABX9TyP9tigTZM17jA52nKSQkMXK",
      "include_colab_link": true
    },
    "kernelspec": {
      "name": "python3",
      "display_name": "Python 3"
    },
    "language_info": {
      "name": "python"
    },
    "accelerator": "GPU"
  },
  "cells": [
    {
      "cell_type": "markdown",
      "metadata": {
        "id": "view-in-github",
        "colab_type": "text"
      },
      "source": [
        "<a href=\"https://colab.research.google.com/github/yomyaykya/yomyay/blob/master/Fingerprint8.ipynb\" target=\"_parent\"><img src=\"https://colab.research.google.com/assets/colab-badge.svg\" alt=\"Open In Colab\"/></a>"
      ]
    },
    {
      "cell_type": "code",
      "metadata": {
        "id": "xJOZ5RVt1wqb"
      },
      "source": [
        "import numpy as np\n",
        "import pandas as pd\n",
        "import seaborn as sns\n",
        "import tensorflow as tf\n",
        "\n",
        "import os\n",
        "import cv2\n",
        "\n",
        "import matplotlib.pyplot as plt\n",
        "def extract_label(img_path,train = True):\n",
        "  filename, _ = os.path.splitext(os.path.basename(img_path))\n",
        "\n",
        "  subject_id, etc = filename.split('__')\n",
        "  \n",
        "  if train:\n",
        "      gender, lr, finger, _, _ = etc.split('_')\n",
        "  else:\n",
        "      gender, lr, finger, _ = etc.split('_')\n",
        "  \n",
        "  gender = 0 if gender == 'M' else 1\n",
        "  lr = 0 if lr == 'Left' else 1\n",
        "\n",
        "  if finger == 'thumb':\n",
        "      finger = 0\n",
        "  elif finger == 'index':\n",
        "      finger = 1\n",
        "  elif finger == 'middle':\n",
        "      finger = 2\n",
        "  elif finger == 'ring':\n",
        "      finger = 3\n",
        "  elif finger == 'little':\n",
        "      finger = 4\n",
        "  return np.array([gender], dtype=np.uint16)\n",
        "img_size = 96"
      ],
      "execution_count": 1,
      "outputs": []
    },
    {
      "cell_type": "code",
      "metadata": {
        "colab": {
          "base_uri": "https://localhost:8080/"
        },
        "id": "_RyYdIruIdU7",
        "outputId": "d2e3cbe0-a1fb-4858-cc80-705eba9e86a8"
      },
      "source": [
        "def loading_data(path,train):\n",
        "    print(\"loading data from: \",path)\n",
        "    data = []\n",
        "    for img in os.listdir(path):\n",
        "        try:\n",
        "            img_array = cv2.imread(os.path.join(path, img), cv2.IMREAD_GRAYSCALE)\n",
        "            img_resize = cv2.resize(img_array, (img_size, img_size))\n",
        "            label = extract_label(os.path.join(path, img),train)\n",
        "            data.append([label[0], img_resize ])\n",
        "        except Exception as e:\n",
        "            pass\n",
        "    data\n",
        "    return data\n",
        "Real_path = \"/content/drive/MyDrive/For thesis/SOCOFing/Real\"\n",
        "Easy_path = \"/content/drive/MyDrive/For thesis/SOCOFing/Altered/Altered-Easy\"\n",
        "Medium_path = \"/content/drive/MyDrive/For thesis/SOCOFing/Altered/Altered-Medium\"\n",
        "Hard_path = \"/content/drive/MyDrive/For thesis/SOCOFing/Altered/Altered-Hard\"\n",
        "\n",
        "Easy_data = loading_data(Easy_path, train = True)\n",
        "Medium_data = loading_data(Medium_path, train = True)\n",
        "Hard_data = loading_data(Hard_path, train = True)\n",
        "test = loading_data(Real_path, train = False)\n",
        "\n",
        "data = np.concatenate([Easy_data, Medium_data, Hard_data], axis=0)\n",
        "\n",
        "del Easy_data, Medium_data, Hard_data"
      ],
      "execution_count": 2,
      "outputs": [
        {
          "output_type": "stream",
          "name": "stdout",
          "text": [
            "loading data from:  /content/drive/MyDrive/For thesis/SOCOFing/Altered/Altered-Easy\n",
            "loading data from:  /content/drive/MyDrive/For thesis/SOCOFing/Altered/Altered-Medium\n",
            "loading data from:  /content/drive/MyDrive/For thesis/SOCOFing/Altered/Altered-Hard\n",
            "loading data from:  /content/drive/MyDrive/For thesis/SOCOFing/Real\n"
          ]
        },
        {
          "output_type": "stream",
          "name": "stderr",
          "text": [
            "<string>:6: VisibleDeprecationWarning: Creating an ndarray from ragged nested sequences (which is a list-or-tuple of lists-or-tuples-or ndarrays with different lengths or shapes) is deprecated. If you meant to do this, you must specify 'dtype=object' when creating the ndarray\n"
          ]
        }
      ]
    },
    {
      "cell_type": "code",
      "metadata": {
        "colab": {
          "base_uri": "https://localhost:8080/"
        },
        "id": "rEG8yqo3IsxC",
        "outputId": "356eca71-d836-4073-86f0-4aa1c1a47e2d"
      },
      "source": [
        "import random\n",
        "random.shuffle(data)\n",
        "random.shuffle(test)\n",
        "data"
      ],
      "execution_count": 3,
      "outputs": [
        {
          "output_type": "execute_result",
          "data": {
            "text/plain": [
              "array([[0,\n",
              "        array([[160, 158, 158, ...,   0,   0,   0],\n",
              "       [160, 105, 121, ...,   0,   0,   0],\n",
              "       [160, 105, 255, ...,   0,   0,   0],\n",
              "       ...,\n",
              "       [  0,   0,   0, ...,   0,   0,   0],\n",
              "       [  0,   0,   0, ...,   0,   0,   0],\n",
              "       [  0,   0,   0, ...,   0,   0,   0]], dtype=uint8)],\n",
              "       [0,\n",
              "        array([[160, 158, 158, ...,   0,   0,   0],\n",
              "       [160, 105, 121, ...,   0,   0,   0],\n",
              "       [160, 105, 255, ...,   0,   0,   0],\n",
              "       ...,\n",
              "       [  0,   0,   0, ...,   0,   0,   0],\n",
              "       [  0,   0,   0, ...,   0,   0,   0],\n",
              "       [  0,   0,   0, ...,   0,   0,   0]], dtype=uint8)],\n",
              "       [0,\n",
              "        array([[160, 158, 158, ...,   0,   0,   0],\n",
              "       [160, 105, 121, ...,   0,   0,   0],\n",
              "       [160, 105, 255, ...,   0,   0,   0],\n",
              "       ...,\n",
              "       [  0,   0,   0, ...,   0,   0,   0],\n",
              "       [  0,   0,   0, ...,   0,   0,   0],\n",
              "       [  0,   0,   0, ...,   0,   0,   0]], dtype=uint8)],\n",
              "       ...,\n",
              "       [0,\n",
              "        array([[160, 158, 158, ...,   0,   0,   0],\n",
              "       [160, 105, 121, ...,   0,   0,   0],\n",
              "       [160, 105, 255, ...,   0,   0,   0],\n",
              "       ...,\n",
              "       [  0,   0,   0, ...,   0,   0,   0],\n",
              "       [  0,   0,   0, ...,   0,   0,   0],\n",
              "       [  0,   0,   0, ...,   0,   0,   0]], dtype=uint8)],\n",
              "       [1,\n",
              "        array([[160, 158, 158, ...,   0,   0,   0],\n",
              "       [160, 105, 121, ...,   0,   0,   0],\n",
              "       [160, 105, 255, ...,   0,   0,   0],\n",
              "       ...,\n",
              "       [  0,   0,   0, ...,   0,   0,   0],\n",
              "       [  0,   0,   0, ...,   0,   0,   0],\n",
              "       [  0,   0,   0, ...,   0,   0,   0]], dtype=uint8)],\n",
              "       [0,\n",
              "        array([[160, 158, 158, ...,   0,   0,   0],\n",
              "       [160, 105, 121, ...,   0,   0,   0],\n",
              "       [160, 105, 255, ...,   0,   0,   0],\n",
              "       ...,\n",
              "       [  0,   0,   0, ...,   0,   0,   0],\n",
              "       [  0,   0,   0, ...,   0,   0,   0],\n",
              "       [  0,   0,   0, ...,   0,   0,   0]], dtype=uint8)]], dtype=object)"
            ]
          },
          "metadata": {},
          "execution_count": 3
        }
      ]
    },
    {
      "cell_type": "code",
      "metadata": {
        "colab": {
          "base_uri": "https://localhost:8080/"
        },
        "id": "6UTEKTQCJIUp",
        "outputId": "d30709a1-504f-479d-8292-818028bded9c"
      },
      "source": [
        "img, labels = [], []\n",
        "for label, feature in data:\n",
        "    labels.append(label)\n",
        "    img.append(feature)\n",
        "train_data = np.array(img).reshape(-1, img_size, img_size, 1)\n",
        "train_data = train_data / 255.0\n",
        "from keras.utils.np_utils import to_categorical\n",
        "train_labels = to_categorical(labels, num_classes = 2)\n",
        "\n",
        "\n",
        "\n",
        "\n",
        "\n",
        "del data\n",
        "train_data\n",
        "\n",
        "\n",
        "\n",
        "train_labels"
      ],
      "execution_count": 4,
      "outputs": [
        {
          "output_type": "execute_result",
          "data": {
            "text/plain": [
              "array([[1., 0.],\n",
              "       [1., 0.],\n",
              "       [1., 0.],\n",
              "       ...,\n",
              "       [1., 0.],\n",
              "       [0., 1.],\n",
              "       [1., 0.]], dtype=float32)"
            ]
          },
          "metadata": {},
          "execution_count": 4
        }
      ]
    },
    {
      "cell_type": "code",
      "metadata": {
        "colab": {
          "base_uri": "https://localhost:8080/"
        },
        "id": "IuYyNKHzI-my",
        "outputId": "8e3ba0ea-5f2e-417d-b46d-281cdf4ed24b"
      },
      "source": [
        "\n",
        "from tensorflow.keras import Sequential \n",
        "from tensorflow.keras.layers import Conv2D, MaxPooling2D, Dense, Flatten, BatchNormalization, Dropout\n",
        "from tensorflow.keras import layers\n",
        "from tensorflow.keras import optimizers\n",
        "\n",
        "model = Sequential([\n",
        "                    Conv2D(32, 3, padding='same', activation='relu',kernel_initializer='he_uniform', input_shape = [96, 96, 1]),\n",
        "                    MaxPooling2D(2),\n",
        "                    Conv2D(32, 3, padding='same', kernel_initializer='he_uniform', activation='relu'),\n",
        "                    MaxPooling2D(2),\n",
        "                    Flatten(),\n",
        "                    Dense(128, kernel_initializer='he_uniform',activation = 'relu'),\n",
        "                    Dense(2, activation = 'softmax'),\n",
        "                    ])\n",
        "model.summary()\n",
        "\n",
        "\n",
        "model.compile(optimizer = optimizers.Adam(1e-3), loss = 'categorical_crossentropy', metrics = ['accuracy'])\n",
        "early_stopping_cb = tf.keras.callbacks.EarlyStopping(monitor='val_loss', patience=10)\n",
        "\n",
        "\n",
        "history = model.fit(train_data, train_labels, batch_size = 128, epochs = 30, \n",
        "          validation_split = 0.2, callbacks = [early_stopping_cb], verbose = 1)\n"
      ],
      "execution_count": 5,
      "outputs": [
        {
          "output_type": "stream",
          "name": "stdout",
          "text": [
            "Model: \"sequential\"\n",
            "_________________________________________________________________\n",
            "Layer (type)                 Output Shape              Param #   \n",
            "=================================================================\n",
            "conv2d (Conv2D)              (None, 96, 96, 32)        320       \n",
            "_________________________________________________________________\n",
            "max_pooling2d (MaxPooling2D) (None, 48, 48, 32)        0         \n",
            "_________________________________________________________________\n",
            "conv2d_1 (Conv2D)            (None, 48, 48, 32)        9248      \n",
            "_________________________________________________________________\n",
            "max_pooling2d_1 (MaxPooling2 (None, 24, 24, 32)        0         \n",
            "_________________________________________________________________\n",
            "flatten (Flatten)            (None, 18432)             0         \n",
            "_________________________________________________________________\n",
            "dense (Dense)                (None, 128)               2359424   \n",
            "_________________________________________________________________\n",
            "dense_1 (Dense)              (None, 2)                 258       \n",
            "=================================================================\n",
            "Total params: 2,369,250\n",
            "Trainable params: 2,369,250\n",
            "Non-trainable params: 0\n",
            "_________________________________________________________________\n",
            "Epoch 1/30\n",
            "52/52 [==============================] - 33s 61ms/step - loss: 1.0806 - accuracy: 0.7121 - val_loss: 0.5565 - val_accuracy: 0.7450\n",
            "Epoch 2/30\n",
            "52/52 [==============================] - 3s 49ms/step - loss: 0.5347 - accuracy: 0.7451 - val_loss: 0.5053 - val_accuracy: 0.7450\n",
            "Epoch 3/30\n",
            "52/52 [==============================] - 3s 49ms/step - loss: 0.4454 - accuracy: 0.7548 - val_loss: 0.4034 - val_accuracy: 0.8270\n",
            "Epoch 4/30\n",
            "52/52 [==============================] - 3s 49ms/step - loss: 0.3187 - accuracy: 0.8512 - val_loss: 0.2992 - val_accuracy: 0.8634\n",
            "Epoch 5/30\n",
            "52/52 [==============================] - 3s 49ms/step - loss: 0.1631 - accuracy: 0.9552 - val_loss: 0.1430 - val_accuracy: 0.9636\n",
            "Epoch 6/30\n",
            "52/52 [==============================] - 3s 49ms/step - loss: 0.0627 - accuracy: 0.9901 - val_loss: 0.0723 - val_accuracy: 0.9903\n",
            "Epoch 7/30\n",
            "52/52 [==============================] - 2s 48ms/step - loss: 0.0284 - accuracy: 0.9971 - val_loss: 0.0524 - val_accuracy: 0.9866\n",
            "Epoch 8/30\n",
            "52/52 [==============================] - 3s 48ms/step - loss: 0.0139 - accuracy: 0.9989 - val_loss: 0.0591 - val_accuracy: 0.9781\n",
            "Epoch 9/30\n",
            "52/52 [==============================] - 2s 48ms/step - loss: 0.0091 - accuracy: 0.9995 - val_loss: 0.0321 - val_accuracy: 0.9933\n",
            "Epoch 10/30\n",
            "52/52 [==============================] - 3s 49ms/step - loss: 0.0050 - accuracy: 0.9998 - val_loss: 0.0312 - val_accuracy: 0.9921\n",
            "Epoch 11/30\n",
            "52/52 [==============================] - 3s 48ms/step - loss: 0.0035 - accuracy: 0.9998 - val_loss: 0.0260 - val_accuracy: 0.9939\n",
            "Epoch 12/30\n",
            "52/52 [==============================] - 3s 49ms/step - loss: 0.0024 - accuracy: 1.0000 - val_loss: 0.0345 - val_accuracy: 0.9921\n",
            "Epoch 13/30\n",
            "52/52 [==============================] - 3s 49ms/step - loss: 0.0020 - accuracy: 1.0000 - val_loss: 0.0258 - val_accuracy: 0.9939\n",
            "Epoch 14/30\n",
            "52/52 [==============================] - 3s 49ms/step - loss: 0.0014 - accuracy: 1.0000 - val_loss: 0.0239 - val_accuracy: 0.9939\n",
            "Epoch 15/30\n",
            "52/52 [==============================] - 3s 49ms/step - loss: 0.0012 - accuracy: 1.0000 - val_loss: 0.0261 - val_accuracy: 0.9933\n",
            "Epoch 16/30\n",
            "52/52 [==============================] - 3s 48ms/step - loss: 9.6880e-04 - accuracy: 1.0000 - val_loss: 0.0280 - val_accuracy: 0.9927\n",
            "Epoch 17/30\n",
            "52/52 [==============================] - 3s 49ms/step - loss: 7.8708e-04 - accuracy: 1.0000 - val_loss: 0.0241 - val_accuracy: 0.9933\n",
            "Epoch 18/30\n",
            "52/52 [==============================] - 3s 48ms/step - loss: 6.6958e-04 - accuracy: 1.0000 - val_loss: 0.0259 - val_accuracy: 0.9927\n",
            "Epoch 19/30\n",
            "52/52 [==============================] - 3s 48ms/step - loss: 5.7678e-04 - accuracy: 1.0000 - val_loss: 0.0227 - val_accuracy: 0.9945\n",
            "Epoch 20/30\n",
            "52/52 [==============================] - 3s 49ms/step - loss: 5.2125e-04 - accuracy: 1.0000 - val_loss: 0.0250 - val_accuracy: 0.9933\n",
            "Epoch 21/30\n",
            "52/52 [==============================] - 3s 48ms/step - loss: 4.5597e-04 - accuracy: 1.0000 - val_loss: 0.0270 - val_accuracy: 0.9927\n",
            "Epoch 22/30\n",
            "52/52 [==============================] - 3s 48ms/step - loss: 3.7962e-04 - accuracy: 1.0000 - val_loss: 0.0295 - val_accuracy: 0.9933\n",
            "Epoch 23/30\n",
            "52/52 [==============================] - 3s 49ms/step - loss: 3.4261e-04 - accuracy: 1.0000 - val_loss: 0.0253 - val_accuracy: 0.9927\n",
            "Epoch 24/30\n",
            "52/52 [==============================] - 3s 49ms/step - loss: 3.0087e-04 - accuracy: 1.0000 - val_loss: 0.0250 - val_accuracy: 0.9933\n",
            "Epoch 25/30\n",
            "52/52 [==============================] - 3s 48ms/step - loss: 2.6376e-04 - accuracy: 1.0000 - val_loss: 0.0278 - val_accuracy: 0.9933\n",
            "Epoch 26/30\n",
            "52/52 [==============================] - 3s 49ms/step - loss: 2.4309e-04 - accuracy: 1.0000 - val_loss: 0.0269 - val_accuracy: 0.9939\n",
            "Epoch 27/30\n",
            "52/52 [==============================] - 3s 48ms/step - loss: 2.1837e-04 - accuracy: 1.0000 - val_loss: 0.0299 - val_accuracy: 0.9933\n",
            "Epoch 28/30\n",
            "52/52 [==============================] - 3s 49ms/step - loss: 1.9791e-04 - accuracy: 1.0000 - val_loss: 0.0300 - val_accuracy: 0.9933\n",
            "Epoch 29/30\n",
            "52/52 [==============================] - 3s 48ms/step - loss: 1.8411e-04 - accuracy: 1.0000 - val_loss: 0.0259 - val_accuracy: 0.9933\n"
          ]
        }
      ]
    },
    {
      "cell_type": "code",
      "metadata": {
        "colab": {
          "base_uri": "https://localhost:8080/",
          "height": 359
        },
        "id": "hlcnKNfGJcEJ",
        "outputId": "5333164d-2846-43fe-9523-0c6ae4ab7a1b"
      },
      "source": [
        "\n",
        "import pandas as pd\n",
        "import matplotlib.pyplot as plt\n",
        "pd.DataFrame(history.history).plot(figsize = (8,5))\n",
        "plt.grid(True)\n",
        "plt.gca().set_ylim(0,1)\n",
        "\n",
        "\n",
        "test\n",
        "\n",
        "\n",
        "\n",
        "test_images, test_labels = [], []\n",
        "\n",
        "for label, feature in test:\n",
        "    test_images.append(feature)\n",
        "    test_labels.append(label)\n",
        "    \n",
        "test_images = np.array(test_images).reshape(-1, img_size, img_size, 1)\n",
        "test_images = test_images / 255.0\n",
        "del test\n",
        "test_labels  = to_categorical(test_labels, num_classes = 2)\n",
        "test_images\n",
        "\n",
        "\n",
        "\n",
        "model.evaluate(test_images, test_labels)"
      ],
      "execution_count": 6,
      "outputs": [
        {
          "output_type": "stream",
          "name": "stdout",
          "text": [
            "32/32 [==============================] - 0s 9ms/step - loss: 0.0231 - accuracy: 0.9950\n"
          ]
        },
        {
          "output_type": "execute_result",
          "data": {
            "text/plain": [
              "[0.02306736633181572, 0.9950000047683716]"
            ]
          },
          "metadata": {},
          "execution_count": 6
        },
        {
          "output_type": "display_data",
          "data": {
            "image/png": "[encoded data removed]",
            "text/plain": [
              "<Figure size 576x360 with 1 Axes>"
            ]
          },
          "metadata": {
            "needs_background": "light"
          }
        }
      ]
    }
  ]
}