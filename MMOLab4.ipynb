{
  "nbformat": 4,
  "nbformat_minor": 0,
  "metadata": {
    "colab": {
      "name": "MMOLab4.ipynb",
      "provenance": [],
      "authorship_tag": "ABX9TyNeXuXnT9I1ND9ws+2qnXnN",
      "include_colab_link": true
    },
    "kernelspec": {
      "name": "python3",
      "display_name": "Python 3"
    },
    "language_info": {
      "name": "python"
    }
  },
  "cells": [
    {
      "cell_type": "markdown",
      "metadata": {
        "id": "view-in-github",
        "colab_type": "text"
      },
      "source": [
        "<a href=\"https://colab.research.google.com/github/yomyaykya/yomyay/blob/master/MMOLab4.ipynb\" target=\"_parent\"><img src=\"https://colab.research.google.com/assets/colab-badge.svg\" alt=\"Open In Colab\"/></a>"
      ]
    },
    {
      "cell_type": "code",
      "metadata": {
        "colab": {
          "base_uri": "https://localhost:8080/"
        },
        "id": "MKfIJqY57knN",
        "outputId": "f1f94c4d-5d99-4876-8688-943264b677e8"
      },
      "source": [
        "!pip install surprise"
      ],
      "execution_count": 2,
      "outputs": [
        {
          "output_type": "stream",
          "text": [
            "Collecting surprise\n",
            "  Downloading https://files.pythonhosted.org/packages/61/de/e5cba8682201fcf9c3719a6fdda95693468ed061945493dea2dd37c5618b/surprise-0.1-py2.py3-none-any.whl\n",
            "Collecting scikit-surprise\n",
            "\u001b[?25l  Downloading https://files.pythonhosted.org/packages/97/37/5d334adaf5ddd65da99fc65f6507e0e4599d092ba048f4302fe8775619e8/scikit-surprise-1.1.1.tar.gz (11.8MB)\n",
            "\u001b[K     |████████████████████████████████| 11.8MB 300kB/s \n",
            "\u001b[?25hRequirement already satisfied: joblib>=0.11 in /usr/local/lib/python3.7/dist-packages (from scikit-surprise->surprise) (1.0.1)\n",
            "Requirement already satisfied: numpy>=1.11.2 in /usr/local/lib/python3.7/dist-packages (from scikit-surprise->surprise) (1.19.5)\n",
            "Requirement already satisfied: scipy>=1.0.0 in /usr/local/lib/python3.7/dist-packages (from scikit-surprise->surprise) (1.4.1)\n",
            "Requirement already satisfied: six>=1.10.0 in /usr/local/lib/python3.7/dist-packages (from scikit-surprise->surprise) (1.15.0)\n",
            "Building wheels for collected packages: scikit-surprise\n",
            "  Building wheel for scikit-surprise (setup.py) ... \u001b[?25l\u001b[?25hdone\n",
            "  Created wheel for scikit-surprise: filename=scikit_surprise-1.1.1-cp37-cp37m-linux_x86_64.whl size=1617550 sha256=976e0e947210b0d7dde045a07afe97206528562258ab47d54ed7d158544196c0\n",
            "  Stored in directory: /root/.cache/pip/wheels/78/9c/3d/41b419c9d2aff5b6e2b4c0fc8d25c538202834058f9ed110d0\n",
            "Successfully built scikit-surprise\n",
            "Installing collected packages: scikit-surprise, surprise\n",
            "Successfully installed scikit-surprise-1.1.1 surprise-0.1\n"
          ],
          "name": "stdout"
        }
      ]
    },
    {
      "cell_type": "code",
      "metadata": {
        "id": "1YB-l3ke3sp8"
      },
      "source": [
        "import numpy as np\n",
        "import pandas as pd\n",
        "from typing import Dict, Tuple\n",
        "from scipy import stats\n",
        "from sklearn.feature_extraction.text import CountVectorizer, TfidfVectorizer\n",
        "from sklearn.neighbors import KNeighborsRegressor, KNeighborsClassifier\n",
        "from sklearn.model_selection import GridSearchCV, RandomizedSearchCV\n",
        "from sklearn.metrics import confusion_matrix\n",
        "from sklearn.metrics.pairwise import cosine_similarity, euclidean_distances, manhattan_distances\n",
        "from surprise import SVD, Dataset, Reader\n",
        "import seaborn as sns\n",
        "import matplotlib.pyplot as plt\n",
        "from matplotlib_venn import venn2\n",
        "%matplotlib inline \n",
        "sns.set(style=\"ticks\")"
      ],
      "execution_count": 3,
      "outputs": []
    },
    {
      "cell_type": "code",
      "metadata": {
        "id": "Jjlc054f8NXL"
      },
      "source": [
        "data=pd.read_csv('googleplaystore.csv', sep=\",\")"
      ],
      "execution_count": 32,
      "outputs": []
    },
    {
      "cell_type": "code",
      "metadata": {
        "colab": {
          "base_uri": "https://localhost:8080/"
        },
        "id": "aoohXAid8Rfr",
        "outputId": "e48b84d6-84a1-4aca-eddc-ff7b4d520394"
      },
      "source": [
        "#размер датасета\n",
        "data.shape"
      ],
      "execution_count": 33,
      "outputs": [
        {
          "output_type": "execute_result",
          "data": {
            "text/plain": [
              "(10841, 13)"
            ]
          },
          "metadata": {
            "tags": []
          },
          "execution_count": 33
        }
      ]
    },
    {
      "cell_type": "code",
      "metadata": {
        "colab": {
          "base_uri": "https://localhost:8080/",
          "height": 559
        },
        "id": "eeFQEzlc8aIc",
        "outputId": "48bf5c34-1cd9-45c8-95ec-cee84294b8c1"
      },
      "source": [
        "data.head()"
      ],
      "execution_count": 34,
      "outputs": [
        {
          "output_type": "execute_result",
          "data": {
            "text/html": [
              "<div>\n",
              "<style scoped>\n",
              "    .dataframe tbody tr th:only-of-type {\n",
              "        vertical-align: middle;\n",
              "    }\n",
              "\n",
              "    .dataframe tbody tr th {\n",
              "        vertical-align: top;\n",
              "    }\n",
              "\n",
              "    .dataframe thead th {\n",
              "        text-align: right;\n",
              "    }\n",
              "</style>\n",
              "<table border=\"1\" class=\"dataframe\">\n",
              "  <thead>\n",
              "    <tr style=\"text-align: right;\">\n",
              "      <th></th>\n",
              "      <th>App</th>\n",
              "      <th>Category</th>\n",
              "      <th>Rating</th>\n",
              "      <th>Reviews</th>\n",
              "      <th>Size</th>\n",
              "      <th>Installs</th>\n",
              "      <th>Type</th>\n",
              "      <th>Price</th>\n",
              "      <th>Content Rating</th>\n",
              "      <th>Genres</th>\n",
              "      <th>Last Updated</th>\n",
              "      <th>Current Ver</th>\n",
              "      <th>Android Ver</th>\n",
              "    </tr>\n",
              "  </thead>\n",
              "  <tbody>\n",
              "    <tr>\n",
              "      <th>0</th>\n",
              "      <td>Photo Editor &amp; Candy Camera &amp; Grid &amp; ScrapBook</td>\n",
              "      <td>ART_AND_DESIGN</td>\n",
              "      <td>4.1</td>\n",
              "      <td>159</td>\n",
              "      <td>19M</td>\n",
              "      <td>10,000+</td>\n",
              "      <td>Free</td>\n",
              "      <td>0</td>\n",
              "      <td>Everyone</td>\n",
              "      <td>Art &amp; Design</td>\n",
              "      <td>January 7, 2018</td>\n",
              "      <td>1.0.0</td>\n",
              "      <td>4.0.3 and up</td>\n",
              "    </tr>\n",
              "    <tr>\n",
              "      <th>1</th>\n",
              "      <td>Coloring book moana</td>\n",
              "      <td>ART_AND_DESIGN</td>\n",
              "      <td>3.9</td>\n",
              "      <td>967</td>\n",
              "      <td>14M</td>\n",
              "      <td>500,000+</td>\n",
              "      <td>Free</td>\n",
              "      <td>0</td>\n",
              "      <td>Everyone</td>\n",
              "      <td>Art &amp; Design;Pretend Play</td>\n",
              "      <td>January 15, 2018</td>\n",
              "      <td>2.0.0</td>\n",
              "      <td>4.0.3 and up</td>\n",
              "    </tr>\n",
              "    <tr>\n",
              "      <th>2</th>\n",
              "      <td>U Launcher Lite – FREE Live Cool Themes, Hide ...</td>\n",
              "      <td>ART_AND_DESIGN</td>\n",
              "      <td>4.7</td>\n",
              "      <td>87510</td>\n",
              "      <td>8.7M</td>\n",
              "      <td>5,000,000+</td>\n",
              "      <td>Free</td>\n",
              "      <td>0</td>\n",
              "      <td>Everyone</td>\n",
              "      <td>Art &amp; Design</td>\n",
              "      <td>August 1, 2018</td>\n",
              "      <td>1.2.4</td>\n",
              "      <td>4.0.3 and up</td>\n",
              "    </tr>\n",
              "    <tr>\n",
              "      <th>3</th>\n",
              "      <td>Sketch - Draw &amp; Paint</td>\n",
              "      <td>ART_AND_DESIGN</td>\n",
              "      <td>4.5</td>\n",
              "      <td>215644</td>\n",
              "      <td>25M</td>\n",
              "      <td>50,000,000+</td>\n",
              "      <td>Free</td>\n",
              "      <td>0</td>\n",
              "      <td>Teen</td>\n",
              "      <td>Art &amp; Design</td>\n",
              "      <td>June 8, 2018</td>\n",
              "      <td>Varies with device</td>\n",
              "      <td>4.2 and up</td>\n",
              "    </tr>\n",
              "    <tr>\n",
              "      <th>4</th>\n",
              "      <td>Pixel Draw - Number Art Coloring Book</td>\n",
              "      <td>ART_AND_DESIGN</td>\n",
              "      <td>4.3</td>\n",
              "      <td>967</td>\n",
              "      <td>2.8M</td>\n",
              "      <td>100,000+</td>\n",
              "      <td>Free</td>\n",
              "      <td>0</td>\n",
              "      <td>Everyone</td>\n",
              "      <td>Art &amp; Design;Creativity</td>\n",
              "      <td>June 20, 2018</td>\n",
              "      <td>1.1</td>\n",
              "      <td>4.4 and up</td>\n",
              "    </tr>\n",
              "  </tbody>\n",
              "</table>\n",
              "</div>"
            ],
            "text/plain": [
              "                                                 App  ...   Android Ver\n",
              "0     Photo Editor & Candy Camera & Grid & ScrapBook  ...  4.0.3 and up\n",
              "1                                Coloring book moana  ...  4.0.3 and up\n",
              "2  U Launcher Lite – FREE Live Cool Themes, Hide ...  ...  4.0.3 and up\n",
              "3                              Sketch - Draw & Paint  ...    4.2 and up\n",
              "4              Pixel Draw - Number Art Coloring Book  ...    4.4 and up\n",
              "\n",
              "[5 rows x 13 columns]"
            ]
          },
          "metadata": {
            "tags": []
          },
          "execution_count": 34
        }
      ]
    },
    {
      "cell_type": "code",
      "metadata": {
        "colab": {
          "base_uri": "https://localhost:8080/"
        },
        "id": "Ai5SBaxS-Npq",
        "outputId": "4e597740-3842-4c7d-d220-536f0b0342fc"
      },
      "source": [
        "list(zip(data.columns, [i for i in data.dtypes]))"
      ],
      "execution_count": 35,
      "outputs": [
        {
          "output_type": "execute_result",
          "data": {
            "text/plain": [
              "[('App', dtype('O')),\n",
              " ('Category', dtype('O')),\n",
              " ('Rating', dtype('float64')),\n",
              " ('Reviews', dtype('int64')),\n",
              " ('Size', dtype('O')),\n",
              " ('Installs', dtype('O')),\n",
              " ('Type', dtype('O')),\n",
              " ('Price', dtype('O')),\n",
              " ('Content Rating', dtype('O')),\n",
              " ('Genres', dtype('O')),\n",
              " ('Last Updated', dtype('O')),\n",
              " ('Current Ver', dtype('O')),\n",
              " ('Android Ver', dtype('O'))]"
            ]
          },
          "metadata": {
            "tags": []
          },
          "execution_count": 35
        }
      ]
    },
    {
      "cell_type": "code",
      "metadata": {
        "colab": {
          "base_uri": "https://localhost:8080/"
        },
        "id": "WWEllSgb8hqd",
        "outputId": "2a863689-3c80-4712-e6a3-1ccafee1eca3"
      },
      "source": [
        "# Колонки с пропусками\n",
        "hcols_with_na = [c for c in data.columns if data[c].isnull().sum() > 0]\n",
        "hcols_with_na"
      ],
      "execution_count": 36,
      "outputs": [
        {
          "output_type": "execute_result",
          "data": {
            "text/plain": [
              "['Rating', 'Type', 'Genres', 'Current Ver', 'Android Ver']"
            ]
          },
          "metadata": {
            "tags": []
          },
          "execution_count": 36
        }
      ]
    },
    {
      "cell_type": "code",
      "metadata": {
        "id": "eZ2QX8rZ_jB6"
      },
      "source": [
        "df = data[data['Genres'].notnull()]\n",
        "df = df[~df['Genres'].str.isspace()]"
      ],
      "execution_count": 37,
      "outputs": []
    },
    {
      "cell_type": "code",
      "metadata": {
        "colab": {
          "base_uri": "https://localhost:8080/"
        },
        "id": "E3bG2MpDA061",
        "outputId": "a21782a3-5f4c-42d8-8def-fd7e313fb2b7"
      },
      "source": [
        "App= df['App'].values\n",
        "App[0:5]"
      ],
      "execution_count": 38,
      "outputs": [
        {
          "output_type": "execute_result",
          "data": {
            "text/plain": [
              "array(['Photo Editor & Candy Camera & Grid & ScrapBook',\n",
              "       'Coloring book moana',\n",
              "       'U Launcher Lite – FREE Live Cool Themes, Hide Apps',\n",
              "       'Sketch - Draw & Paint', 'Pixel Draw - Number Art Coloring Book'],\n",
              "      dtype=object)"
            ]
          },
          "metadata": {
            "tags": []
          },
          "execution_count": 38
        }
      ]
    },
    {
      "cell_type": "code",
      "metadata": {
        "colab": {
          "base_uri": "https://localhost:8080/"
        },
        "id": "dzQgPA-qBW7m",
        "outputId": "b0c96c99-3bc5-4fcd-bbb6-00599e0cbf4c"
      },
      "source": [
        "Genres= df['Genres'].values\n",
        "Genres[0:5]"
      ],
      "execution_count": 39,
      "outputs": [
        {
          "output_type": "execute_result",
          "data": {
            "text/plain": [
              "array(['Art & Design', 'Art & Design;Pretend Play', 'Art & Design',\n",
              "       'Art & Design', 'Art & Design;Creativity'], dtype=object)"
            ]
          },
          "metadata": {
            "tags": []
          },
          "execution_count": 39
        }
      ]
    },
    {
      "cell_type": "code",
      "metadata": {
        "colab": {
          "base_uri": "https://localhost:8080/"
        },
        "id": "zqCkjxwfBjV5",
        "outputId": "45d42c8b-02ee-45a1-8cc5-3e5f38ddf1e3"
      },
      "source": [
        "Installs= df['Installs'].values\n",
        "Installs[0:5]"
      ],
      "execution_count": 41,
      "outputs": [
        {
          "output_type": "execute_result",
          "data": {
            "text/plain": [
              "array(['10,000+', '500,000+', '5,000,000+', '50,000,000+', '100,000+'],\n",
              "      dtype=object)"
            ]
          },
          "metadata": {
            "tags": []
          },
          "execution_count": 41
        }
      ]
    },
    {
      "cell_type": "code",
      "metadata": {
        "colab": {
          "base_uri": "https://localhost:8080/"
        },
        "id": "MxWLcGCRCPTx",
        "outputId": "88a0998a-a8a3-4f50-c6b3-3e22c5846c77"
      },
      "source": [
        "%%time\n",
        "tfidfv = TfidfVectorizer()\n",
        "matrix = tfidfv.fit_transform(Genres)\n",
        "matrix"
      ],
      "execution_count": 42,
      "outputs": [
        {
          "output_type": "stream",
          "text": [
            "CPU times: user 47.6 ms, sys: 0 ns, total: 47.6 ms\n",
            "Wall time: 63 ms\n"
          ],
          "name": "stdout"
        }
      ]
    },
    {
      "cell_type": "code",
      "metadata": {
        "id": "J-V-LsMYCiqk"
      },
      "source": [
        "class SimpleKNNRecommender:\n",
        "    \n",
        "    def __init__(self, X_matrix, X_Genres, X_App, X_Installs):\n",
        "        \"\"\"\n",
        "        Входные параметры:\n",
        "        X_matrix - обучающая выборка (матрица объект-признак)\n",
        "        \"\"\"\n",
        "        #Сохраняем параметры в переменных объекта\n",
        "        self._X_matrix = X_matrix\n",
        "        self.df = pd.DataFrame(\n",
        "            {'Genres': pd.Series(X_Genres, dtype='str'),\n",
        "            'App': pd.Series(X_App, dtype='str'),\n",
        "            'Installs': pd.Series(X_Installs, dtype='str'),\n",
        "            'dist': pd.Series([], dtype='float')})\n",
        "            \n",
        "            \n",
        "    def recommend_for_single_object(self, K: int, \\\n",
        "                X_matrix_object, cos_flag = True, manh_flag = False):\n",
        "        \"\"\"\n",
        "        Метод формирования рекомендаций для одного объекта.\n",
        "        Входные параметры:\n",
        "        K - количество рекомендуемых соседей \n",
        "        X_matrix_object - строка матрицы объект-признак, соответствующая объекту\n",
        "        cos_flag - флаг вычисления косинусного расстояния\n",
        "        manh_flag - флаг вычисления манхэттэнского расстояния\n",
        "        Возвращаемое значение: K найденных соседей\n",
        "        \"\"\"\n",
        "        \n",
        "        scale = 1000000\n",
        "        # Вычисляем косинусную близость\n",
        "        if cos_flag:\n",
        "            dist = cosine_similarity(self._X_matrix, X_matrix_object)\n",
        "            self.df['dist'] = dist * scale\n",
        "            res = self.df.sort_values(by='dist', ascending=False)\n",
        "            # Не учитываем рекомендации с единичным расстоянием,\n",
        "            # так как это искомый объект\n",
        "            res = res[res['dist'] < scale]\n",
        "        \n",
        "        else:\n",
        "            if manh_flag:\n",
        "                dist = manhattan_distances(self._X_matrix, X_matrix_object)\n",
        "            else:\n",
        "                dist = euclidean_distances(self._X_matrix, X_matrix_object)\n",
        "            self.df['dist'] = dist * scale\n",
        "            res = self.df.sort_values(by='dist', ascending=True)\n",
        "            # Не учитываем рекомендации с единичным расстоянием,\n",
        "            # так как это искомый объект\n",
        "            res = res[res['dist'] > 0.0]            \n",
        "        \n",
        "        # Оставляем К первых рекомендаций\n",
        "        res = res.head(K)\n",
        "        return res"
      ],
      "execution_count": 43,
      "outputs": []
    },
    {
      "cell_type": "code",
      "metadata": {
        "colab": {
          "base_uri": "https://localhost:8080/",
          "height": 35
        },
        "id": "Hcm1pNQdD8p3",
        "outputId": "1403e9f9-b457-4eca-dc33-74512f5d146b"
      },
      "source": [
        "Genres[0]"
      ],
      "execution_count": 44,
      "outputs": [
        {
          "output_type": "execute_result",
          "data": {
            "application/vnd.google.colaboratory.intrinsic+json": {
              "type": "string"
            },
            "text/plain": [
              "'Art & Design'"
            ]
          },
          "metadata": {
            "tags": []
          },
          "execution_count": 44
        }
      ]
    },
    {
      "cell_type": "code",
      "metadata": {
        "colab": {
          "base_uri": "https://localhost:8080/"
        },
        "id": "1D4Hsh_rEI-T",
        "outputId": "1a16a25d-5de3-4d4a-8467-46d5a55dae88"
      },
      "source": [
        "mc_matrix = matrix[0]\n",
        "mc_matrix"
      ],
      "execution_count": 45,
      "outputs": [
        {
          "output_type": "execute_result",
          "data": {
            "text/plain": [
              "<1x66 sparse matrix of type '<class 'numpy.float64'>'\n",
              "\twith 2 stored elements in Compressed Sparse Row format>"
            ]
          },
          "metadata": {
            "tags": []
          },
          "execution_count": 45
        }
      ]
    },
    {
      "cell_type": "code",
      "metadata": {
        "id": "_KBfzYvBEPLY"
      },
      "source": [
        "skr1 = SimpleKNNRecommender(matrix, Genres, App, Installs)"
      ],
      "execution_count": 46,
      "outputs": []
    },
    {
      "cell_type": "code",
      "metadata": {
        "colab": {
          "base_uri": "https://localhost:8080/",
          "height": 199
        },
        "id": "8YO-uWwcEb9j",
        "outputId": "475c41ad-c37d-45a7-85b4-2bb5c2866141"
      },
      "source": [
        "rec1 = skr1.recommend_for_single_object(5, mc_matrix)\n",
        "rec1"
      ],
      "execution_count": 47,
      "outputs": [
        {
          "output_type": "execute_result",
          "data": {
            "text/html": [
              "<div>\n",
              "<style scoped>\n",
              "    .dataframe tbody tr th:only-of-type {\n",
              "        vertical-align: middle;\n",
              "    }\n",
              "\n",
              "    .dataframe tbody tr th {\n",
              "        vertical-align: top;\n",
              "    }\n",
              "\n",
              "    .dataframe thead th {\n",
              "        text-align: right;\n",
              "    }\n",
              "</style>\n",
              "<table border=\"1\" class=\"dataframe\">\n",
              "  <thead>\n",
              "    <tr style=\"text-align: right;\">\n",
              "      <th></th>\n",
              "      <th>Genres</th>\n",
              "      <th>App</th>\n",
              "      <th>Installs</th>\n",
              "      <th>dist</th>\n",
              "    </tr>\n",
              "  </thead>\n",
              "  <tbody>\n",
              "    <tr>\n",
              "      <th>23</th>\n",
              "      <td>Art &amp; Design;Action &amp; Adventure</td>\n",
              "      <td>Mcqueen Coloring pages</td>\n",
              "      <td>100,000+</td>\n",
              "      <td>801421.625333</td>\n",
              "    </tr>\n",
              "    <tr>\n",
              "      <th>2111</th>\n",
              "      <td>Art &amp; Design;Action &amp; Adventure</td>\n",
              "      <td>Mcqueen Coloring pages</td>\n",
              "      <td>100,000+</td>\n",
              "      <td>801421.625333</td>\n",
              "    </tr>\n",
              "    <tr>\n",
              "      <th>10438</th>\n",
              "      <td>Art &amp; Design;Creativity</td>\n",
              "      <td>Dolphin and fish coloring book</td>\n",
              "      <td>500,000+</td>\n",
              "      <td>789039.398405</td>\n",
              "    </tr>\n",
              "    <tr>\n",
              "      <th>26</th>\n",
              "      <td>Art &amp; Design;Creativity</td>\n",
              "      <td>Colorfit - Drawing &amp; Coloring</td>\n",
              "      <td>500,000+</td>\n",
              "      <td>789039.398405</td>\n",
              "    </tr>\n",
              "    <tr>\n",
              "      <th>4</th>\n",
              "      <td>Art &amp; Design;Creativity</td>\n",
              "      <td>Pixel Draw - Number Art Coloring Book</td>\n",
              "      <td>100,000+</td>\n",
              "      <td>789039.398405</td>\n",
              "    </tr>\n",
              "  </tbody>\n",
              "</table>\n",
              "</div>"
            ],
            "text/plain": [
              "                                Genres  ...           dist\n",
              "23     Art & Design;Action & Adventure  ...  801421.625333\n",
              "2111   Art & Design;Action & Adventure  ...  801421.625333\n",
              "10438          Art & Design;Creativity  ...  789039.398405\n",
              "26             Art & Design;Creativity  ...  789039.398405\n",
              "4              Art & Design;Creativity  ...  789039.398405\n",
              "\n",
              "[5 rows x 4 columns]"
            ]
          },
          "metadata": {
            "tags": []
          },
          "execution_count": 47
        }
      ]
    },
    {
      "cell_type": "code",
      "metadata": {
        "colab": {
          "base_uri": "https://localhost:8080/",
          "height": 250
        },
        "id": "r9wWSnu2EerW",
        "outputId": "b930ad68-a43a-42e0-8e8a-f0fd569ba369"
      },
      "source": [
        "# При поиске с помощью Евклидова расстояния \n",
        "rec2 = skr1.recommend_for_single_object(5, mc_matrix, cos_flag = False)\n",
        "rec2"
      ],
      "execution_count": 48,
      "outputs": [
        {
          "output_type": "execute_result",
          "data": {
            "text/html": [
              "<div>\n",
              "<style scoped>\n",
              "    .dataframe tbody tr th:only-of-type {\n",
              "        vertical-align: middle;\n",
              "    }\n",
              "\n",
              "    .dataframe tbody tr th {\n",
              "        vertical-align: top;\n",
              "    }\n",
              "\n",
              "    .dataframe thead th {\n",
              "        text-align: right;\n",
              "    }\n",
              "</style>\n",
              "<table border=\"1\" class=\"dataframe\">\n",
              "  <thead>\n",
              "    <tr style=\"text-align: right;\">\n",
              "      <th></th>\n",
              "      <th>Genres</th>\n",
              "      <th>App</th>\n",
              "      <th>Installs</th>\n",
              "      <th>dist</th>\n",
              "    </tr>\n",
              "  </thead>\n",
              "  <tbody>\n",
              "    <tr>\n",
              "      <th>2111</th>\n",
              "      <td>Art &amp; Design;Action &amp; Adventure</td>\n",
              "      <td>Mcqueen Coloring pages</td>\n",
              "      <td>100,000+</td>\n",
              "      <td>630203.736369</td>\n",
              "    </tr>\n",
              "    <tr>\n",
              "      <th>23</th>\n",
              "      <td>Art &amp; Design;Action &amp; Adventure</td>\n",
              "      <td>Mcqueen Coloring pages</td>\n",
              "      <td>100,000+</td>\n",
              "      <td>630203.736369</td>\n",
              "    </tr>\n",
              "    <tr>\n",
              "      <th>7027</th>\n",
              "      <td>Art &amp; Design;Creativity</td>\n",
              "      <td>UNICORN - Color By Number &amp; Pixel Art Coloring</td>\n",
              "      <td>500,000+</td>\n",
              "      <td>649554.619097</td>\n",
              "    </tr>\n",
              "    <tr>\n",
              "      <th>26</th>\n",
              "      <td>Art &amp; Design;Creativity</td>\n",
              "      <td>Colorfit - Drawing &amp; Coloring</td>\n",
              "      <td>500,000+</td>\n",
              "      <td>649554.619097</td>\n",
              "    </tr>\n",
              "    <tr>\n",
              "      <th>4</th>\n",
              "      <td>Art &amp; Design;Creativity</td>\n",
              "      <td>Pixel Draw - Number Art Coloring Book</td>\n",
              "      <td>100,000+</td>\n",
              "      <td>649554.619097</td>\n",
              "    </tr>\n",
              "  </tbody>\n",
              "</table>\n",
              "</div>"
            ],
            "text/plain": [
              "                               Genres  ...           dist\n",
              "2111  Art & Design;Action & Adventure  ...  630203.736369\n",
              "23    Art & Design;Action & Adventure  ...  630203.736369\n",
              "7027          Art & Design;Creativity  ...  649554.619097\n",
              "26            Art & Design;Creativity  ...  649554.619097\n",
              "4             Art & Design;Creativity  ...  649554.619097\n",
              "\n",
              "[5 rows x 4 columns]"
            ]
          },
          "metadata": {
            "tags": []
          },
          "execution_count": 48
        }
      ]
    },
    {
      "cell_type": "code",
      "metadata": {
        "colab": {
          "base_uri": "https://localhost:8080/",
          "height": 199
        },
        "id": "y2Nh6lMXEizw",
        "outputId": "e5a1cf3a-a30b-4fb9-b570-1f034ba5b9cb"
      },
      "source": [
        "# Манхэттэнское расстояние\n",
        "rec3 = skr1.recommend_for_single_object(5, mc_matrix, \n",
        "                                        cos_flag = False, manh_flag = True)\n",
        "rec3"
      ],
      "execution_count": 49,
      "outputs": [
        {
          "output_type": "execute_result",
          "data": {
            "text/html": [
              "<div>\n",
              "<style scoped>\n",
              "    .dataframe tbody tr th:only-of-type {\n",
              "        vertical-align: middle;\n",
              "    }\n",
              "\n",
              "    .dataframe tbody tr th {\n",
              "        vertical-align: top;\n",
              "    }\n",
              "\n",
              "    .dataframe thead th {\n",
              "        text-align: right;\n",
              "    }\n",
              "</style>\n",
              "<table border=\"1\" class=\"dataframe\">\n",
              "  <thead>\n",
              "    <tr style=\"text-align: right;\">\n",
              "      <th></th>\n",
              "      <th>Genres</th>\n",
              "      <th>App</th>\n",
              "      <th>Installs</th>\n",
              "      <th>dist</th>\n",
              "    </tr>\n",
              "  </thead>\n",
              "  <tbody>\n",
              "    <tr>\n",
              "      <th>10438</th>\n",
              "      <td>Art &amp; Design;Creativity</td>\n",
              "      <td>Dolphin and fish coloring book</td>\n",
              "      <td>500,000+</td>\n",
              "      <td>912685.941941</td>\n",
              "    </tr>\n",
              "    <tr>\n",
              "      <th>9</th>\n",
              "      <td>Art &amp; Design;Creativity</td>\n",
              "      <td>Kids Paint Free - Drawing Fun</td>\n",
              "      <td>10,000+</td>\n",
              "      <td>912685.941941</td>\n",
              "    </tr>\n",
              "    <tr>\n",
              "      <th>7027</th>\n",
              "      <td>Art &amp; Design;Creativity</td>\n",
              "      <td>UNICORN - Color By Number &amp; Pixel Art Coloring</td>\n",
              "      <td>500,000+</td>\n",
              "      <td>912685.941941</td>\n",
              "    </tr>\n",
              "    <tr>\n",
              "      <th>43</th>\n",
              "      <td>Art &amp; Design;Creativity</td>\n",
              "      <td>Paint Splash!</td>\n",
              "      <td>100,000+</td>\n",
              "      <td>912685.941941</td>\n",
              "    </tr>\n",
              "    <tr>\n",
              "      <th>26</th>\n",
              "      <td>Art &amp; Design;Creativity</td>\n",
              "      <td>Colorfit - Drawing &amp; Coloring</td>\n",
              "      <td>500,000+</td>\n",
              "      <td>912685.941941</td>\n",
              "    </tr>\n",
              "  </tbody>\n",
              "</table>\n",
              "</div>"
            ],
            "text/plain": [
              "                        Genres  ...           dist\n",
              "10438  Art & Design;Creativity  ...  912685.941941\n",
              "9      Art & Design;Creativity  ...  912685.941941\n",
              "7027   Art & Design;Creativity  ...  912685.941941\n",
              "43     Art & Design;Creativity  ...  912685.941941\n",
              "26     Art & Design;Creativity  ...  912685.941941\n",
              "\n",
              "[5 rows x 4 columns]"
            ]
          },
          "metadata": {
            "tags": []
          },
          "execution_count": 49
        }
      ]
    }
  ]
}